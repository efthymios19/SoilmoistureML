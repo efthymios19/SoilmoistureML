{
 "cells": [
  {
   "cell_type": "markdown",
   "id": "ecb08f52",
   "metadata": {},
   "source": [
    "#### Import data "
   ]
  },
  {
   "cell_type": "code",
   "execution_count": 1,
   "id": "b3b8800d",
   "metadata": {},
   "outputs": [],
   "source": [
    "import numpy as np\n",
    "import pandas as pd"
   ]
  },
  {
   "cell_type": "code",
   "execution_count": 35,
   "id": "be0aa379",
   "metadata": {},
   "outputs": [],
   "source": [
    "xtrain=df_daily[['Rain','Temperature','SoilTemp10cm','SoilTemp30cm', 'SoilTemp50cm' ,'GPP_500']]"
   ]
  },
  {
   "cell_type": "code",
   "execution_count": 36,
   "id": "6c001e03",
   "metadata": {},
   "outputs": [],
   "source": [
    "ytrain=df_daily[['Soilmoisture10cm','Soilmoisture30cm', 'Soilmoisture50cm']]"
   ]
  },
  {
   "cell_type": "code",
   "execution_count": 40,
   "id": "ecac3da9",
   "metadata": {},
   "outputs": [
    {
     "name": "stdout",
     "output_type": "stream",
     "text": [
      "Entropy for Rain: 2.1982560812929886\n",
      "Joint Entropy for (Rain, Soilmoisture10cm): 8.019076182941614\n",
      "Mutual Information between Rain and Soilmoisture10cm: 1.2910592222800457\n",
      "Joint Entropy for (Rain, Soilmoisture30cm): 7.917359288872325\n",
      "Mutual Information between Rain and Soilmoisture30cm: 1.2890778565756476\n",
      "Joint Entropy for (Rain, Soilmoisture50cm): 8.0352602940297\n",
      "Mutual Information between Rain and Soilmoisture50cm: 1.297605389093862\n",
      "Entropy for Temperature: 7.190210492312387\n",
      "Joint Entropy for (Temperature, Soilmoisture10cm): 9.954960727304744\n",
      "Mutual Information between Temperature and Soilmoisture10cm: 4.347129088936313\n",
      "Joint Entropy for (Temperature, Soilmoisture30cm): 9.961036978893276\n",
      "Mutual Information between Temperature and Soilmoisture30cm: 4.237354577574095\n",
      "Joint Entropy for (Temperature, Soilmoisture50cm): 9.969510959184603\n",
      "Mutual Information between Temperature and Soilmoisture50cm: 4.3553091349583575\n",
      "Entropy for SoilTemp10cm: 7.333454488234739\n",
      "Joint Entropy for (SoilTemp10cm, Soilmoisture10cm): 9.851423802872247\n",
      "Mutual Information between SoilTemp10cm and Soilmoisture10cm: 4.593910009291164\n",
      "Joint Entropy for (SoilTemp10cm, Soilmoisture30cm): 9.931912838186754\n",
      "Mutual Information between SoilTemp10cm and Soilmoisture30cm: 4.409722714202971\n",
      "Joint Entropy for (SoilTemp10cm, Soilmoisture50cm): 9.89343972319955\n",
      "Mutual Information between SoilTemp10cm and Soilmoisture50cm: 4.574624366865761\n",
      "Entropy for SoilTemp30cm: 7.335920282990453\n",
      "Joint Entropy for (SoilTemp30cm, Soilmoisture10cm): 9.7523495165733\n",
      "Mutual Information between SoilTemp30cm and Soilmoisture10cm: 4.695450090345824\n",
      "Joint Entropy for (SoilTemp30cm, Soilmoisture30cm): 9.81265240377937\n",
      "Mutual Information between SoilTemp30cm and Soilmoisture30cm: 4.531448943366067\n",
      "Joint Entropy for (SoilTemp30cm, Soilmoisture50cm): 9.825931488135936\n",
      "Mutual Information between SoilTemp30cm and Soilmoisture50cm: 4.64459839668509\n",
      "Entropy for SoilTemp50cm: 7.284468182648284\n",
      "Joint Entropy for (SoilTemp50cm, Soilmoisture10cm): 9.726418724588468\n",
      "Mutual Information between SoilTemp50cm and Soilmoisture10cm: 4.669928781988487\n",
      "Joint Entropy for (SoilTemp50cm, Soilmoisture30cm): 9.839191925724727\n",
      "Mutual Information between SoilTemp50cm and Soilmoisture30cm: 4.453457321078542\n",
      "Joint Entropy for (SoilTemp50cm, Soilmoisture50cm): 9.82991081021687\n",
      "Mutual Information between SoilTemp50cm and Soilmoisture50cm: 4.589166974261989\n",
      "Entropy for GPP_500: 7.400121344017779\n",
      "Joint Entropy for (GPP_500, Soilmoisture10cm): 9.968842713581301\n",
      "Mutual Information between GPP_500 and Soilmoisture10cm: 4.5431579543651495\n",
      "Joint Entropy for (GPP_500, Soilmoisture30cm): 9.985766997217151\n",
      "Mutual Information between GPP_500 and Soilmoisture30cm: 4.4225354109556125\n",
      "Joint Entropy for (GPP_500, Soilmoisture50cm): 9.972242810689044\n",
      "Mutual Information between GPP_500 and Soilmoisture50cm: 4.562488135159308\n"
     ]
    }
   ],
   "source": [
    "def entropy(X, bins):\n",
    "    binned_dist = np.histogram(X, bins)[0]\n",
    "    probs = binned_dist / np.sum(binned_dist)\n",
    "    probs = probs[np.nonzero(probs)]\n",
    "    entropy = -np.sum(probs * np.log2(probs))\n",
    "    return entropy\n",
    "\n",
    "def joint_entropy(X, Y, bins):\n",
    "    binned_dist = np.histogram2d(X, Y, bins)[0]\n",
    "    probs = binned_dist / np.sum(binned_dist)\n",
    "    probs = probs[np.nonzero(probs)]\n",
    "    joint_entropy = -np.sum(probs * np.log2(probs))\n",
    "    return joint_entropy\n",
    "\n",
    "def mutual_info(X, Y, bins):\n",
    "    H_X = entropy(X, bins)\n",
    "    H_Y = entropy(Y, bins)\n",
    "    H_XY = joint_entropy(X, Y, bins)\n",
    "    MI = H_X + H_Y - H_XY\n",
    "    return MI\n",
    "\n",
    "num_bins = 200\n",
    "\n",
    "for x_column in xtrain.columns:\n",
    "    mi_scores=[]\n",
    "    entropy_x = entropy(xtrain[x_column].to_numpy(), num_bins)\n",
    "    print(f\"Entropy for {x_column}: {entropy_x}\")\n",
    "    mi_scores_column = []\n",
    "    for y_column in ytrain.columns:\n",
    "        X = xtrain[x_column].to_numpy()\n",
    "        Y = ytrain[y_column].to_numpy()\n",
    "        \n",
    "        joint_entropy_xy = joint_entropy(X, Y, num_bins)\n",
    "        print(f\"Joint Entropy for ({x_column}, {y_column}): {joint_entropy_xy}\")\n",
    "\n",
    "        mutual_information = mutual_info(X, Y, num_bins)\n",
    "        mi_scores_column.append(mutual_information)\n",
    "        print(f\"Mutual Information between {x_column} and {y_column}: {mutual_information}\")\n",
    "    mi_scores.append(mi_scores_column)\n",
    "        "
   ]
  },
  {
   "cell_type": "code",
   "execution_count": 38,
   "id": "110bcf21",
   "metadata": {},
   "outputs": [
    {
     "name": "stdout",
     "output_type": "stream",
     "text": [
      "Mutual Information between Rain and Soilmoisture10cm: 0.3722846618979577\n",
      "Redudancy between Rain and Soilmoisture10cm:0.15907180490064643\n",
      "Mutual Information between Rain and Soilmoisture30cm: 0.37474901983768505\n",
      "Redudancy between Rain and Soilmoisture30cm:0.16074996113693152\n",
      "Mutual Information between Rain and Soilmoisture50cm: 0.3773641976547159\n",
      "Redudancy between Rain and Soilmoisture50cm:0.1610597108155828\n",
      "Mutual Information between Temperature and Soilmoisture10cm: 0.6924013786748793\n",
      "Redudancy between Temperature and Soilmoisture10cm:0.34619450791526046\n",
      "Mutual Information between Temperature and Soilmoisture30cm: 0.6837013221603054\n",
      "Redudancy between Temperature and Soilmoisture30cm:0.3418194238561855\n",
      "Mutual Information between Temperature and Soilmoisture50cm: 0.695314210321576\n",
      "Redudancy between Temperature and Soilmoisture50cm:0.3476545971199502\n",
      "Mutual Information between SoilTemp10cm and Soilmoisture10cm: 0.7133821682152689\n",
      "Redudancy between SoilTemp10cm and Soilmoisture10cm:0.356659023829854\n",
      "Mutual Information between SoilTemp10cm and Soilmoisture30cm: 0.6967543948207435\n",
      "Redudancy between SoilTemp10cm and Soilmoisture30cm:0.348300748860333\n",
      "Mutual Information between SoilTemp10cm and Soilmoisture50cm: 0.7099996837824338\n",
      "Redudancy between SoilTemp10cm and Soilmoisture50cm:0.35497745493412225\n",
      "Mutual Information between SoilTemp30cm and Soilmoisture10cm: 0.7203640584764558\n",
      "Redudancy between SoilTemp30cm and Soilmoisture10cm:0.3601416060696102\n",
      "Mutual Information between SoilTemp30cm and Soilmoisture30cm: 0.7055724508965857\n",
      "Redudancy between SoilTemp30cm and Soilmoisture30cm:0.3526967388548937\n",
      "Mutual Information between SoilTemp30cm and Soilmoisture50cm: 0.7168251913538938\n",
      "Redudancy between SoilTemp30cm and Soilmoisture50cm:0.3583832121603652\n",
      "Mutual Information between SoilTemp50cm and Soilmoisture10cm: 0.7167544572347742\n",
      "Redudancy between SoilTemp50cm and Soilmoisture10cm:0.3583585390294008\n",
      "Mutual Information between SoilTemp50cm and Soilmoisture30cm: 0.6981545908410074\n",
      "Redudancy between SoilTemp50cm and Soilmoisture30cm:0.34902227277925363\n",
      "Mutual Information between SoilTemp50cm and Soilmoisture50cm: 0.7121044739725285\n",
      "Redudancy between SoilTemp50cm and Soilmoisture50cm:0.35604074185431184\n",
      "Mutual Information between GPP_500 and Soilmoisture10cm: 0.7113533501469966\n",
      "Redudancy between GPP_500 and Soilmoisture10cm:0.35560824346471526\n",
      "Mutual Information between GPP_500 and Soilmoisture30cm: 0.7007582211865742\n",
      "Redudancy between GPP_500 and Soilmoisture30cm:0.3502499082434008\n",
      "Mutual Information between GPP_500 and Soilmoisture50cm: 0.7117815682882673\n",
      "Redudancy between GPP_500 and Soilmoisture50cm:0.35583666554067794\n"
     ]
    }
   ],
   "source": [
    "num_bins = 300\n",
    "mi_scores = []\n",
    "entropy_scores = []\n",
    "joint_entropy_scores = []\n",
    "redudancy=[]\n",
    "\n",
    "for x_column in xtrain.columns:\n",
    "    entropy_x = entropy(xtrain[x_column].to_numpy(), num_bins)\n",
    "    entropy_scores.append(entropy_x)\n",
    "    mi_scores_column = []\n",
    "    redudancy_column=[]\n",
    "    for y_column in ytrain.columns:\n",
    "        X = xtrain[x_column].to_numpy()\n",
    "        Y = ytrain[y_column].to_numpy()\n",
    "\n",
    "        joint_entropy_xy = joint_entropy(X, Y, num_bins)\n",
    "        joint_entropy_scores.append(joint_entropy_xy)\n",
    "\n",
    "        mutual_information = mutual_info(X, Y, num_bins)\n",
    "        min_entropy = min(entropy_x, entropy(Y, num_bins))\n",
    "        sqrt_entropy= np.sqrt(entropy_x) * np.sqrt(entropy(Y,num_bins))\n",
    "        normalized_mi = mutual_information / sqrt_entropy if sqrt_entropy != 0 else 0\n",
    "        mi_scores_column.append(normalized_mi)\n",
    "        red=mutual_information/(entropy_x+entropy(Y, num_bins))\n",
    "        redudancy_column.append(red)\n",
    "        print(f\"Mutual Information between {x_column} and {y_column}: {normalized_mi}\")\n",
    "        print(f\"Redudancy between {x_column} and {y_column}:{red}\")\n",
    "    mi_scores.append(mi_scores_column)\n",
    "    redudancy.append(redudancy_column)"
   ]
  },
  {
   "cell_type": "code",
   "execution_count": 39,
   "id": "11480839",
   "metadata": {},
   "outputs": [
    {
     "data": {
      "image/png": "[encoded data removed]",
      "text/plain": [
       "<Figure size 864x432 with 1 Axes>"
      ]
     },
     "metadata": {
      "needs_background": "light"
     },
     "output_type": "display_data"
    },
    {
     "name": "stdout",
     "output_type": "stream",
     "text": [
      "Entropy Scores: [2.4122327921485027, 7.716505142472344, 7.832064872726621, 7.8567674079176335, 7.7821755226815075, 7.92994033031043]\n",
      "Joint Entropy Scores: [8.440448239948575, 8.327787566846622, 8.448412530294517, 10.030248505020065, 10.022223860196817, 10.029556582469962, 9.944053179614652, 9.998841848277179, 9.991509126004035, 9.906029400095528, 9.947385417949572, 9.954602927556287, 9.885772878124756, 9.955294850106391, 9.942911921596469, 10.023365118215, 10.03253102105643, 10.041247588429783]\n"
     ]
    }
   ],
   "source": [
    "fig, ax = plt.subplots(figsize=(12, 6))\n",
    "index = np.arange(len(xtrain.columns))\n",
    "bar_width = 0.19  # Adjust the width of the bars\n",
    "opacity = 0.8\n",
    "num_targets = len(ytrain.columns)\n",
    "spacing = 0.05  # Adjust the spacing between groups of bars\n",
    "colors = ['lightgrey', 'darkgrey', 'grey']  # Define custom colors for the bars\n",
    "\n",
    "for i, column in enumerate(ytrain.columns):\n",
    "    values = [row[i] for row in mi_scores]\n",
    "    ax.bar(index + (bar_width + spacing) * i, values, bar_width, alpha=opacity, label=column, color=colors[i % len(colors)])  # Adjust the position of the bars\n",
    "\n",
    "ax.set_xlabel('Predictor attributes', fontsize=12)\n",
    "ax.set_ylabel('Normalized Mutual Information Scores', fontsize=12)\n",
    "ax.set_title('Normalized Mutual Information Scores for Predictor Attributes', fontsize=15)\n",
    "ax.set_xticks(index + (bar_width + spacing) * (num_targets - 1) / 2)  # Adjust the position of x ticks\n",
    "ax.set_xticklabels(['Precipitation', 'Temperature', 'SoilTemp10cm', 'SoilTemp30cm', 'SoilTemp50cm', 'GPP'], rotation=0, ha=\"center\")\n",
    "ax.legend()\n",
    "\n",
    "plt.tight_layout()\n",
    "plt.show()\n",
    "\n",
    "print(\"Entropy Scores:\", entropy_scores)\n",
    "print(\"Joint Entropy Scores:\", joint_entropy_scores)\n"
   ]
  }
 ],
 "metadata": {
  "kernelspec": {
   "display_name": "Python 3 (ipykernel)",
   "language": "python",
   "name": "python3"
  },
  "language_info": {
   "codemirror_mode": {
    "name": "ipython",
    "version": 3
   },
   "file_extension": ".py",
   "mimetype": "text/x-python",
   "name": "python",
   "nbconvert_exporter": "python",
   "pygments_lexer": "ipython3",
   "version": "3.9.12"
  }
 },
 "nbformat": 4,
 "nbformat_minor": 5
}
